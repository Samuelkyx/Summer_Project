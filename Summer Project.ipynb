{
 "cells": [
  {
   "cell_type": "code",
   "execution_count": 1,
   "id": "ac3c15bc",
   "metadata": {},
   "outputs": [],
   "source": [
    "import pandas as pd\n",
    "import numpy as np\n",
    "import matplotlib.pyplot as plt\n",
    "import datetime as dt\n",
    "import seaborn as sns\n",
    "from sklearn.linear_model import LogisticRegression, LinearRegression, Lasso , LassoCV\n",
    "from sklearn.model_selection import train_test_split\n",
    "from sklearn.metrics import classification_report, confusion_matrix, accuracy_score, roc_curve, roc_auc_score"
   ]
  },
  {
   "cell_type": "code",
   "execution_count": 79,
   "id": "98f64aec",
   "metadata": {},
   "outputs": [
    {
     "data": {
      "text/html": [
       "<div>\n",
       "<style scoped>\n",
       "    .dataframe tbody tr th:only-of-type {\n",
       "        vertical-align: middle;\n",
       "    }\n",
       "\n",
       "    .dataframe tbody tr th {\n",
       "        vertical-align: top;\n",
       "    }\n",
       "\n",
       "    .dataframe thead th {\n",
       "        text-align: right;\n",
       "    }\n",
       "</style>\n",
       "<table border=\"1\" class=\"dataframe\">\n",
       "  <thead>\n",
       "    <tr style=\"text-align: right;\">\n",
       "      <th></th>\n",
       "      <th>Coupon</th>\n",
       "      <th>Factor</th>\n",
       "      <th>Current Amount</th>\n",
       "      <th>Original Amount</th>\n",
       "      <th>WAC</th>\n",
       "      <th>WAM</th>\n",
       "      <th>WALA</th>\n",
       "      <th>Maturity</th>\n",
       "      <th>LQA_SECTOR_SCORE</th>\n",
       "      <th>FLT_SPREAD</th>\n",
       "      <th>MTG_WHLN_NUMBER_LOAN</th>\n",
       "      <th>MTG_NUM_ORIG_LOAN</th>\n",
       "      <th>REFIX_FREQ</th>\n",
       "      <th>CPN_FREQ</th>\n",
       "      <th>CPN</th>\n",
       "      <th>MTG_PL_CPR_6M</th>\n",
       "      <th>MTG_ORIG_WAM</th>\n",
       "      <th>ISSUE_DT</th>\n",
       "      <th>CPR_indicator</th>\n",
       "    </tr>\n",
       "  </thead>\n",
       "  <tbody>\n",
       "    <tr>\n",
       "      <th>0</th>\n",
       "      <td>7.625</td>\n",
       "      <td>0.001181</td>\n",
       "      <td>26864.31</td>\n",
       "      <td>22744259.28</td>\n",
       "      <td>7.625</td>\n",
       "      <td>4</td>\n",
       "      <td>297</td>\n",
       "      <td>738788</td>\n",
       "      <td>59.0</td>\n",
       "      <td>-37.5</td>\n",
       "      <td>1</td>\n",
       "      <td>62</td>\n",
       "      <td>4</td>\n",
       "      <td>12</td>\n",
       "      <td>7.625</td>\n",
       "      <td>6.881213</td>\n",
       "      <td>262</td>\n",
       "      <td>729633</td>\n",
       "      <td>1</td>\n",
       "    </tr>\n",
       "    <tr>\n",
       "      <th>1</th>\n",
       "      <td>7.945</td>\n",
       "      <td>0.000600</td>\n",
       "      <td>4855.09</td>\n",
       "      <td>8090331.36</td>\n",
       "      <td>7.945</td>\n",
       "      <td>3</td>\n",
       "      <td>297</td>\n",
       "      <td>738788</td>\n",
       "      <td>54.0</td>\n",
       "      <td>-30.5</td>\n",
       "      <td>1</td>\n",
       "      <td>21</td>\n",
       "      <td>12</td>\n",
       "      <td>12</td>\n",
       "      <td>7.945</td>\n",
       "      <td>85.966244</td>\n",
       "      <td>273</td>\n",
       "      <td>729633</td>\n",
       "      <td>1</td>\n",
       "    </tr>\n",
       "    <tr>\n",
       "      <th>2</th>\n",
       "      <td>5.625</td>\n",
       "      <td>0.000241</td>\n",
       "      <td>9102.55</td>\n",
       "      <td>37830703.35</td>\n",
       "      <td>5.625</td>\n",
       "      <td>2</td>\n",
       "      <td>296</td>\n",
       "      <td>738818</td>\n",
       "      <td>96.0</td>\n",
       "      <td>-262.5</td>\n",
       "      <td>1</td>\n",
       "      <td>117</td>\n",
       "      <td>12</td>\n",
       "      <td>12</td>\n",
       "      <td>5.625</td>\n",
       "      <td>81.833629</td>\n",
       "      <td>290</td>\n",
       "      <td>729663</td>\n",
       "      <td>1</td>\n",
       "    </tr>\n",
       "    <tr>\n",
       "      <th>3</th>\n",
       "      <td>5.375</td>\n",
       "      <td>0.002607</td>\n",
       "      <td>12675.14</td>\n",
       "      <td>4862877.47</td>\n",
       "      <td>5.375</td>\n",
       "      <td>5</td>\n",
       "      <td>296</td>\n",
       "      <td>738818</td>\n",
       "      <td>87.0</td>\n",
       "      <td>-262.5</td>\n",
       "      <td>1</td>\n",
       "      <td>10</td>\n",
       "      <td>4</td>\n",
       "      <td>12</td>\n",
       "      <td>5.375</td>\n",
       "      <td>0.000000</td>\n",
       "      <td>300</td>\n",
       "      <td>729663</td>\n",
       "      <td>0</td>\n",
       "    </tr>\n",
       "    <tr>\n",
       "      <th>4</th>\n",
       "      <td>7.875</td>\n",
       "      <td>0.000758</td>\n",
       "      <td>7570.50</td>\n",
       "      <td>9986740.66</td>\n",
       "      <td>7.875</td>\n",
       "      <td>5</td>\n",
       "      <td>296</td>\n",
       "      <td>738818</td>\n",
       "      <td>56.0</td>\n",
       "      <td>-12.5</td>\n",
       "      <td>1</td>\n",
       "      <td>31</td>\n",
       "      <td>4</td>\n",
       "      <td>12</td>\n",
       "      <td>7.875</td>\n",
       "      <td>74.786068</td>\n",
       "      <td>259</td>\n",
       "      <td>729663</td>\n",
       "      <td>1</td>\n",
       "    </tr>\n",
       "    <tr>\n",
       "      <th>5</th>\n",
       "      <td>7.625</td>\n",
       "      <td>0.000492</td>\n",
       "      <td>7112.03</td>\n",
       "      <td>14467235.07</td>\n",
       "      <td>7.625</td>\n",
       "      <td>3</td>\n",
       "      <td>295</td>\n",
       "      <td>738849</td>\n",
       "      <td>59.0</td>\n",
       "      <td>-37.5</td>\n",
       "      <td>1</td>\n",
       "      <td>41</td>\n",
       "      <td>4</td>\n",
       "      <td>12</td>\n",
       "      <td>7.625</td>\n",
       "      <td>91.214804</td>\n",
       "      <td>267</td>\n",
       "      <td>729694</td>\n",
       "      <td>1</td>\n",
       "    </tr>\n",
       "    <tr>\n",
       "      <th>6</th>\n",
       "      <td>8.060</td>\n",
       "      <td>0.002413</td>\n",
       "      <td>47921.65</td>\n",
       "      <td>19862930.56</td>\n",
       "      <td>8.060</td>\n",
       "      <td>5</td>\n",
       "      <td>295</td>\n",
       "      <td>738879</td>\n",
       "      <td>51.0</td>\n",
       "      <td>-19.0</td>\n",
       "      <td>1</td>\n",
       "      <td>70</td>\n",
       "      <td>12</td>\n",
       "      <td>12</td>\n",
       "      <td>8.060</td>\n",
       "      <td>0.000000</td>\n",
       "      <td>268</td>\n",
       "      <td>729694</td>\n",
       "      <td>0</td>\n",
       "    </tr>\n",
       "    <tr>\n",
       "      <th>7</th>\n",
       "      <td>8.000</td>\n",
       "      <td>0.002336</td>\n",
       "      <td>61400.46</td>\n",
       "      <td>26284207.92</td>\n",
       "      <td>8.000</td>\n",
       "      <td>2</td>\n",
       "      <td>295</td>\n",
       "      <td>738879</td>\n",
       "      <td>53.0</td>\n",
       "      <td>0.0</td>\n",
       "      <td>1</td>\n",
       "      <td>65</td>\n",
       "      <td>4</td>\n",
       "      <td>12</td>\n",
       "      <td>8.000</td>\n",
       "      <td>1.967761</td>\n",
       "      <td>276</td>\n",
       "      <td>729694</td>\n",
       "      <td>1</td>\n",
       "    </tr>\n",
       "    <tr>\n",
       "      <th>8</th>\n",
       "      <td>7.125</td>\n",
       "      <td>0.002977</td>\n",
       "      <td>11791.98</td>\n",
       "      <td>3961510.07</td>\n",
       "      <td>7.125</td>\n",
       "      <td>5</td>\n",
       "      <td>294</td>\n",
       "      <td>738849</td>\n",
       "      <td>61.0</td>\n",
       "      <td>-87.5</td>\n",
       "      <td>2</td>\n",
       "      <td>15</td>\n",
       "      <td>4</td>\n",
       "      <td>12</td>\n",
       "      <td>7.125</td>\n",
       "      <td>5.746700</td>\n",
       "      <td>296</td>\n",
       "      <td>729724</td>\n",
       "      <td>1</td>\n",
       "    </tr>\n",
       "    <tr>\n",
       "      <th>9</th>\n",
       "      <td>5.500</td>\n",
       "      <td>0.001099</td>\n",
       "      <td>33012.75</td>\n",
       "      <td>30025494.97</td>\n",
       "      <td>5.500</td>\n",
       "      <td>6</td>\n",
       "      <td>293</td>\n",
       "      <td>738910</td>\n",
       "      <td>95.0</td>\n",
       "      <td>-250.0</td>\n",
       "      <td>3</td>\n",
       "      <td>89</td>\n",
       "      <td>4</td>\n",
       "      <td>12</td>\n",
       "      <td>5.500</td>\n",
       "      <td>0.000000</td>\n",
       "      <td>281</td>\n",
       "      <td>729755</td>\n",
       "      <td>0</td>\n",
       "    </tr>\n",
       "  </tbody>\n",
       "</table>\n",
       "</div>"
      ],
      "text/plain": [
       "   Coupon    Factor  Current Amount  Original Amount    WAC  WAM  WALA  \\\n",
       "0   7.625  0.001181        26864.31      22744259.28  7.625    4   297   \n",
       "1   7.945  0.000600         4855.09       8090331.36  7.945    3   297   \n",
       "2   5.625  0.000241         9102.55      37830703.35  5.625    2   296   \n",
       "3   5.375  0.002607        12675.14       4862877.47  5.375    5   296   \n",
       "4   7.875  0.000758         7570.50       9986740.66  7.875    5   296   \n",
       "5   7.625  0.000492         7112.03      14467235.07  7.625    3   295   \n",
       "6   8.060  0.002413        47921.65      19862930.56  8.060    5   295   \n",
       "7   8.000  0.002336        61400.46      26284207.92  8.000    2   295   \n",
       "8   7.125  0.002977        11791.98       3961510.07  7.125    5   294   \n",
       "9   5.500  0.001099        33012.75      30025494.97  5.500    6   293   \n",
       "\n",
       "   Maturity  LQA_SECTOR_SCORE  FLT_SPREAD  MTG_WHLN_NUMBER_LOAN  \\\n",
       "0    738788              59.0       -37.5                     1   \n",
       "1    738788              54.0       -30.5                     1   \n",
       "2    738818              96.0      -262.5                     1   \n",
       "3    738818              87.0      -262.5                     1   \n",
       "4    738818              56.0       -12.5                     1   \n",
       "5    738849              59.0       -37.5                     1   \n",
       "6    738879              51.0       -19.0                     1   \n",
       "7    738879              53.0         0.0                     1   \n",
       "8    738849              61.0       -87.5                     2   \n",
       "9    738910              95.0      -250.0                     3   \n",
       "\n",
       "   MTG_NUM_ORIG_LOAN REFIX_FREQ CPN_FREQ    CPN  MTG_PL_CPR_6M  MTG_ORIG_WAM  \\\n",
       "0                 62          4       12  7.625       6.881213           262   \n",
       "1                 21         12       12  7.945      85.966244           273   \n",
       "2                117         12       12  5.625      81.833629           290   \n",
       "3                 10          4       12  5.375       0.000000           300   \n",
       "4                 31          4       12  7.875      74.786068           259   \n",
       "5                 41          4       12  7.625      91.214804           267   \n",
       "6                 70         12       12  8.060       0.000000           268   \n",
       "7                 65          4       12  8.000       1.967761           276   \n",
       "8                 15          4       12  7.125       5.746700           296   \n",
       "9                 89          4       12  5.500       0.000000           281   \n",
       "\n",
       "   ISSUE_DT  CPR_indicator  \n",
       "0    729633              1  \n",
       "1    729633              1  \n",
       "2    729663              1  \n",
       "3    729663              0  \n",
       "4    729663              1  \n",
       "5    729694              1  \n",
       "6    729694              0  \n",
       "7    729694              1  \n",
       "8    729724              1  \n",
       "9    729755              0  "
      ]
     },
     "execution_count": 79,
     "metadata": {},
     "output_type": "execute_result"
    }
   ],
   "source": [
    "SBA_float_data = pd.read_excel(\"SBA_FLOAT_LIST.xlsx\",sheet_name=\"float\",header=1)\n",
    "SBA_float_data = SBA_float_data.drop([\"Security\",\"Coupon Type\",\"Type\",\"Security.1\",\"Security.2\",\n",
    "                                      \"TICKER \",\"Unnamed: 13\",\"MTG_PL_CPR_1M\",\"MTG_PL_CPR_3M\",\n",
    "                                      \"MTG_PL_CPR_12M\",\"MTG_PL_CPR_ISS\",\"RESET_IDX\"], axis=1)\n",
    "\n",
    "SBA_float_data[\"REFIX_FREQ\"] = SBA_float_data[\"REFIX_FREQ\"].astype(\"category\")\n",
    "SBA_float_data[\"CPN_FREQ\"] = SBA_float_data[\"CPN_FREQ\"].astype(\"category\")\n",
    "\n",
    "SBA_float_data['Maturity'] = pd.to_datetime(SBA_float_data['Maturity'])\n",
    "SBA_float_data['Maturity']=SBA_float_data['Maturity'].map(dt.datetime.toordinal)\n",
    "\n",
    "SBA_float_data['ISSUE_DT'] = pd.to_datetime(SBA_float_data['ISSUE_DT'])\n",
    "SBA_float_data['ISSUE_DT']=SBA_float_data['ISSUE_DT'].map(dt.datetime.toordinal)\n",
    "\n",
    "\n",
    "CPR_indicator =  [1 if x != 0 else 0 for x in SBA_float_data['MTG_PL_CPR_6M']]\n",
    "\n",
    "SBA_float_data['CPR_indicator'] = CPR_indicator\n",
    "\n",
    "SBA_float_data.head(10)\n"
   ]
  },
  {
   "cell_type": "code",
   "execution_count": 80,
   "id": "1e898452",
   "metadata": {
    "scrolled": true
   },
   "outputs": [
    {
     "data": {
      "text/plain": [
       "Coupon                   944\n",
       "Factor                  3949\n",
       "Current Amount          4002\n",
       "Original Amount         4002\n",
       "WAC                      944\n",
       "WAM                      302\n",
       "WALA                     292\n",
       "Maturity                 333\n",
       "LQA_SECTOR_SCORE         100\n",
       "FLT_SPREAD               935\n",
       "MTG_WHLN_NUMBER_LOAN     158\n",
       "MTG_NUM_ORIG_LOAN        218\n",
       "REFIX_FREQ                 3\n",
       "CPN_FREQ                   1\n",
       "CPN                      944\n",
       "MTG_PL_CPR_6M           2320\n",
       "MTG_ORIG_WAM             226\n",
       "ISSUE_DT                 292\n",
       "CPR_indicator              2\n",
       "dtype: int64"
      ]
     },
     "execution_count": 80,
     "metadata": {},
     "output_type": "execute_result"
    }
   ],
   "source": [
    "SBA_float_data.nunique()\n"
   ]
  },
  {
   "cell_type": "code",
   "execution_count": 81,
   "id": "17a74aaf",
   "metadata": {},
   "outputs": [
    {
     "name": "stdout",
     "output_type": "stream",
     "text": [
      "<class 'pandas.core.frame.DataFrame'>\n",
      "RangeIndex: 4002 entries, 0 to 4001\n",
      "Data columns (total 19 columns):\n",
      " #   Column                Non-Null Count  Dtype   \n",
      "---  ------                --------------  -----   \n",
      " 0   Coupon                4002 non-null   float64 \n",
      " 1   Factor                4002 non-null   float64 \n",
      " 2   Current Amount        4002 non-null   float64 \n",
      " 3   Original Amount       4002 non-null   float64 \n",
      " 4   WAC                   4002 non-null   float64 \n",
      " 5   WAM                   4002 non-null   int64   \n",
      " 6   WALA                  4002 non-null   int64   \n",
      " 7   Maturity              4002 non-null   int64   \n",
      " 8   LQA_SECTOR_SCORE      3945 non-null   float64 \n",
      " 9   FLT_SPREAD            4001 non-null   float64 \n",
      " 10  MTG_WHLN_NUMBER_LOAN  4002 non-null   int64   \n",
      " 11  MTG_NUM_ORIG_LOAN     4002 non-null   int64   \n",
      " 12  REFIX_FREQ            4002 non-null   category\n",
      " 13  CPN_FREQ              4002 non-null   category\n",
      " 14  CPN                   4002 non-null   float64 \n",
      " 15  MTG_PL_CPR_6M         3845 non-null   float64 \n",
      " 16  MTG_ORIG_WAM          4002 non-null   int64   \n",
      " 17  ISSUE_DT              4002 non-null   int64   \n",
      " 18  CPR_indicator         4002 non-null   int64   \n",
      "dtypes: category(2), float64(9), int64(8)\n",
      "memory usage: 539.7 KB\n"
     ]
    }
   ],
   "source": [
    "SBA_float_data.info()"
   ]
  },
  {
   "cell_type": "code",
   "execution_count": 82,
   "id": "e0aa8e4f",
   "metadata": {},
   "outputs": [
    {
     "data": {
      "text/plain": [
       "Coupon                    0\n",
       "Factor                    0\n",
       "Current Amount            0\n",
       "Original Amount           0\n",
       "WAC                       0\n",
       "WAM                       0\n",
       "WALA                      0\n",
       "Maturity                  0\n",
       "LQA_SECTOR_SCORE         57\n",
       "FLT_SPREAD                1\n",
       "MTG_WHLN_NUMBER_LOAN      0\n",
       "MTG_NUM_ORIG_LOAN         0\n",
       "REFIX_FREQ                0\n",
       "CPN_FREQ                  0\n",
       "CPN                       0\n",
       "MTG_PL_CPR_6M           157\n",
       "MTG_ORIG_WAM              0\n",
       "ISSUE_DT                  0\n",
       "CPR_indicator             0\n",
       "dtype: int64"
      ]
     },
     "execution_count": 82,
     "metadata": {},
     "output_type": "execute_result"
    }
   ],
   "source": [
    "SBA_float_data.isnull().sum()"
   ]
  },
  {
   "cell_type": "code",
   "execution_count": 83,
   "id": "1db6a178",
   "metadata": {},
   "outputs": [],
   "source": [
    "SBA_float_data=SBA_float_data.dropna()"
   ]
  },
  {
   "cell_type": "code",
   "execution_count": 100,
   "id": "9f6e7d42",
   "metadata": {},
   "outputs": [
    {
     "name": "stdout",
     "output_type": "stream",
     "text": [
      "      Coupon    Factor  Current Amount  Original Amount     WAC  WAM  WALA  \\\n",
      "0      7.625  0.001181        26864.31      22744259.28   7.625    4   297   \n",
      "1      7.945  0.000600         4855.09       8090331.36   7.945    3   297   \n",
      "2      5.625  0.000241         9102.55      37830703.35   5.625    2   296   \n",
      "3      5.375  0.002607        12675.14       4862877.47   5.375    5   296   \n",
      "4      7.875  0.000758         7570.50       9986740.66   7.875    5   296   \n",
      "...      ...       ...             ...              ...     ...  ...   ...   \n",
      "3978   9.488  0.936417     13544035.63      14463678.33   9.488  106     8   \n",
      "3979   9.421  0.920580     10280801.94      11167747.31   9.421  112     8   \n",
      "3980   9.508  0.914832     14517244.60      15868756.78   9.508  112     7   \n",
      "3981   9.381  0.960674     18240425.16      18987114.66   9.381  111     6   \n",
      "3982  10.678  0.878805      8878362.31      10102770.00  10.678  112     6   \n",
      "\n",
      "      Maturity  LQA_SECTOR_SCORE  FLT_SPREAD  MTG_WHLN_NUMBER_LOAN  \\\n",
      "0       738788              59.0       -37.5                     1   \n",
      "1       738788              54.0       -30.5                     1   \n",
      "2       738818              96.0      -262.5                     1   \n",
      "3       738818              87.0      -262.5                     1   \n",
      "4       738818              56.0       -12.5                     1   \n",
      "...        ...               ...         ...                   ...   \n",
      "3978    741923              14.0       148.8                    82   \n",
      "3979    742106              15.0       142.1                   115   \n",
      "3980    742106              16.0       150.8                    72   \n",
      "3981    742198              13.0       138.1                    99   \n",
      "3982    742137              14.0       267.8                    76   \n",
      "\n",
      "      MTG_NUM_ORIG_LOAN REFIX_FREQ CPN_FREQ     CPN  MTG_ORIG_WAM  ISSUE_DT  \n",
      "0                    62          4       12   7.625           262    729633  \n",
      "1                    21         12       12   7.945           273    729633  \n",
      "2                   117         12       12   5.625           290    729663  \n",
      "3                    10          4       12   5.375           300    729663  \n",
      "4                    31          4       12   7.875           259    729663  \n",
      "...                 ...        ...      ...     ...           ...       ...  \n",
      "3978                 84          4       12   9.488           113    738429  \n",
      "3979                116          4       12   9.421           118    738429  \n",
      "3980                 75          4       12   9.508           117    738460  \n",
      "3981                100          4       12   9.381           115    738490  \n",
      "3982                 84          4       12  10.678           119    738490  \n",
      "\n",
      "[3805 rows x 17 columns]\n",
      "0       1\n",
      "1       1\n",
      "2       1\n",
      "3       0\n",
      "4       1\n",
      "       ..\n",
      "3978    1\n",
      "3979    1\n",
      "3980    1\n",
      "3981    1\n",
      "3982    1\n",
      "Name: CPR_indicator, Length: 3805, dtype: int64\n"
     ]
    }
   ],
   "source": [
    "x=SBA_float_data.drop([\"CPR_indicator\",\"MTG_PL_CPR_6M\"],axis=1)\n",
    "y=SBA_float_data[\"CPR_indicator\"]\n",
    "print(x)\n",
    "print(y)"
   ]
  },
  {
   "cell_type": "code",
   "execution_count": 85,
   "id": "75557dc4",
   "metadata": {},
   "outputs": [],
   "source": [
    "x_train,x_test,y_train,y_test = train_test_split(x, y, test_size=0.3, random_state=2)"
   ]
  },
  {
   "cell_type": "code",
   "execution_count": 86,
   "id": "b6c88c0a",
   "metadata": {},
   "outputs": [],
   "source": [
    "logmodel=LogisticRegression(random_state = 0, C=0.001, fit_intercept = True)"
   ]
  },
  {
   "cell_type": "code",
   "execution_count": 87,
   "id": "cc0c21d0",
   "metadata": {},
   "outputs": [
    {
     "data": {
      "text/html": [
       "<style>#sk-container-id-8 {color: black;background-color: white;}#sk-container-id-8 pre{padding: 0;}#sk-container-id-8 div.sk-toggleable {background-color: white;}#sk-container-id-8 label.sk-toggleable__label {cursor: pointer;display: block;width: 100%;margin-bottom: 0;padding: 0.3em;box-sizing: border-box;text-align: center;}#sk-container-id-8 label.sk-toggleable__label-arrow:before {content: \"▸\";float: left;margin-right: 0.25em;color: #696969;}#sk-container-id-8 label.sk-toggleable__label-arrow:hover:before {color: black;}#sk-container-id-8 div.sk-estimator:hover label.sk-toggleable__label-arrow:before {color: black;}#sk-container-id-8 div.sk-toggleable__content {max-height: 0;max-width: 0;overflow: hidden;text-align: left;background-color: #f0f8ff;}#sk-container-id-8 div.sk-toggleable__content pre {margin: 0.2em;color: black;border-radius: 0.25em;background-color: #f0f8ff;}#sk-container-id-8 input.sk-toggleable__control:checked~div.sk-toggleable__content {max-height: 200px;max-width: 100%;overflow: auto;}#sk-container-id-8 input.sk-toggleable__control:checked~label.sk-toggleable__label-arrow:before {content: \"▾\";}#sk-container-id-8 div.sk-estimator input.sk-toggleable__control:checked~label.sk-toggleable__label {background-color: #d4ebff;}#sk-container-id-8 div.sk-label input.sk-toggleable__control:checked~label.sk-toggleable__label {background-color: #d4ebff;}#sk-container-id-8 input.sk-hidden--visually {border: 0;clip: rect(1px 1px 1px 1px);clip: rect(1px, 1px, 1px, 1px);height: 1px;margin: -1px;overflow: hidden;padding: 0;position: absolute;width: 1px;}#sk-container-id-8 div.sk-estimator {font-family: monospace;background-color: #f0f8ff;border: 1px dotted black;border-radius: 0.25em;box-sizing: border-box;margin-bottom: 0.5em;}#sk-container-id-8 div.sk-estimator:hover {background-color: #d4ebff;}#sk-container-id-8 div.sk-parallel-item::after {content: \"\";width: 100%;border-bottom: 1px solid gray;flex-grow: 1;}#sk-container-id-8 div.sk-label:hover label.sk-toggleable__label {background-color: #d4ebff;}#sk-container-id-8 div.sk-serial::before {content: \"\";position: absolute;border-left: 1px solid gray;box-sizing: border-box;top: 0;bottom: 0;left: 50%;z-index: 0;}#sk-container-id-8 div.sk-serial {display: flex;flex-direction: column;align-items: center;background-color: white;padding-right: 0.2em;padding-left: 0.2em;position: relative;}#sk-container-id-8 div.sk-item {position: relative;z-index: 1;}#sk-container-id-8 div.sk-parallel {display: flex;align-items: stretch;justify-content: center;background-color: white;position: relative;}#sk-container-id-8 div.sk-item::before, #sk-container-id-8 div.sk-parallel-item::before {content: \"\";position: absolute;border-left: 1px solid gray;box-sizing: border-box;top: 0;bottom: 0;left: 50%;z-index: -1;}#sk-container-id-8 div.sk-parallel-item {display: flex;flex-direction: column;z-index: 1;position: relative;background-color: white;}#sk-container-id-8 div.sk-parallel-item:first-child::after {align-self: flex-end;width: 50%;}#sk-container-id-8 div.sk-parallel-item:last-child::after {align-self: flex-start;width: 50%;}#sk-container-id-8 div.sk-parallel-item:only-child::after {width: 0;}#sk-container-id-8 div.sk-dashed-wrapped {border: 1px dashed gray;margin: 0 0.4em 0.5em 0.4em;box-sizing: border-box;padding-bottom: 0.4em;background-color: white;}#sk-container-id-8 div.sk-label label {font-family: monospace;font-weight: bold;display: inline-block;line-height: 1.2em;}#sk-container-id-8 div.sk-label-container {text-align: center;}#sk-container-id-8 div.sk-container {/* jupyter's `normalize.less` sets `[hidden] { display: none; }` but bootstrap.min.css set `[hidden] { display: none !important; }` so we also need the `!important` here to be able to override the default hidden behavior on the sphinx rendered scikit-learn.org. See: https://github.com/scikit-learn/scikit-learn/issues/21755 */display: inline-block !important;position: relative;}#sk-container-id-8 div.sk-text-repr-fallback {display: none;}</style><div id=\"sk-container-id-8\" class=\"sk-top-container\"><div class=\"sk-text-repr-fallback\"><pre>LogisticRegression(C=0.001, random_state=0)</pre><b>In a Jupyter environment, please rerun this cell to show the HTML representation or trust the notebook. <br />On GitHub, the HTML representation is unable to render, please try loading this page with nbviewer.org.</b></div><div class=\"sk-container\" hidden><div class=\"sk-item\"><div class=\"sk-estimator sk-toggleable\"><input class=\"sk-toggleable__control sk-hidden--visually\" id=\"sk-estimator-id-8\" type=\"checkbox\" checked><label for=\"sk-estimator-id-8\" class=\"sk-toggleable__label sk-toggleable__label-arrow\">LogisticRegression</label><div class=\"sk-toggleable__content\"><pre>LogisticRegression(C=0.001, random_state=0)</pre></div></div></div></div></div>"
      ],
      "text/plain": [
       "LogisticRegression(C=0.001, random_state=0)"
      ]
     },
     "execution_count": 87,
     "metadata": {},
     "output_type": "execute_result"
    }
   ],
   "source": [
    "logmodel.fit(x_train,y_train)"
   ]
  },
  {
   "cell_type": "code",
   "execution_count": 88,
   "id": "84777ff3",
   "metadata": {},
   "outputs": [
    {
     "data": {
      "text/plain": [
       "array([1, 1, 0, ..., 1, 0, 1], dtype=int64)"
      ]
     },
     "execution_count": 88,
     "metadata": {},
     "output_type": "execute_result"
    }
   ],
   "source": [
    "predictions = logmodel.predict(x_test)\n",
    "predictions"
   ]
  },
  {
   "cell_type": "code",
   "execution_count": 89,
   "id": "7f46befa",
   "metadata": {},
   "outputs": [
    {
     "data": {
      "text/plain": [
       "'              precision    recall  f1-score   support\\n\\n           0       0.63      0.64      0.63       451\\n           1       0.76      0.76      0.76       691\\n\\n    accuracy                           0.71      1142\\n   macro avg       0.70      0.70      0.70      1142\\nweighted avg       0.71      0.71      0.71      1142\\n'"
      ]
     },
     "execution_count": 89,
     "metadata": {},
     "output_type": "execute_result"
    }
   ],
   "source": [
    "classification_report(y_test,predictions)"
   ]
  },
  {
   "cell_type": "code",
   "execution_count": 98,
   "id": "1cb05da1",
   "metadata": {},
   "outputs": [
    {
     "data": {
      "text/plain": [
       "0.7101576182136602"
      ]
     },
     "execution_count": 98,
     "metadata": {},
     "output_type": "execute_result"
    }
   ],
   "source": [
    "accuracy_score(y_test,predictions)\n"
   ]
  },
  {
   "cell_type": "code",
   "execution_count": 99,
   "id": "55b1e336",
   "metadata": {},
   "outputs": [
    {
     "data": {
      "text/plain": [
       "array([[287, 164],\n",
       "       [167, 524]], dtype=int64)"
      ]
     },
     "execution_count": 99,
     "metadata": {},
     "output_type": "execute_result"
    }
   ],
   "source": [
    "cm=confusion_matrix(y_test,predictions)\n",
    "cm"
   ]
  },
  {
   "cell_type": "code",
   "execution_count": 92,
   "id": "59589364",
   "metadata": {},
   "outputs": [
    {
     "data": {
      "text/plain": [
       "<Axes: >"
      ]
     },
     "execution_count": 92,
     "metadata": {},
     "output_type": "execute_result"
    },
    {
     "data": {
      "image/png": "[encoded data removed]",
      "text/plain": [
       "<Figure size 640x480 with 2 Axes>"
      ]
     },
     "metadata": {},
     "output_type": "display_data"
    }
   ],
   "source": [
    "conf_mat = pd.DataFrame(data = cm, columns = ['Predicted No Speed', 'Predicted Have Speed'], index = ['Actual No Speed', 'Actual Have Speed'])\n",
    "sns.heatmap(conf_mat, annot = True, fmt='d', cmap=\"YlGnBu\")"
   ]
  },
  {
   "cell_type": "code",
   "execution_count": 93,
   "id": "5802effe",
   "metadata": {},
   "outputs": [
    {
     "data": {
      "image/png": "[encoded data removed]",
      "text/plain": [
       "<Figure size 640x480 with 1 Axes>"
      ]
     },
     "metadata": {},
     "output_type": "display_data"
    }
   ],
   "source": [
    "#define metrics\n",
    "fpr, tpr, _ = roc_curve(y_test, predictions)\n",
    "auc = roc_auc_score(y_test, predictions)\n",
    "\n",
    "#create ROC curve\n",
    "plt.plot(fpr,tpr,label=\"AUC=\"+str(auc))\n",
    "plt.ylabel('True Positive Rate')\n",
    "plt.xlabel('False Positive Rate')\n",
    "plt.legend(loc=5)\n",
    "plt.show()"
   ]
  },
  {
   "cell_type": "markdown",
   "id": "114b4850",
   "metadata": {},
   "source": [
    "###  Linear regression"
   ]
  },
  {
   "cell_type": "code",
   "execution_count": 20,
   "id": "d27192a7",
   "metadata": {},
   "outputs": [
    {
     "name": "stdout",
     "output_type": "stream",
     "text": [
      "      Coupon    Factor  Current Amount  Original Amount     WAC  WAM  WALA  \\\n",
      "0      7.625  0.001181        26864.31      22744259.28   7.625    4   297   \n",
      "1      7.945  0.000600         4855.09       8090331.36   7.945    3   297   \n",
      "2      5.625  0.000241         9102.55      37830703.35   5.625    2   296   \n",
      "3      5.375  0.002607        12675.14       4862877.47   5.375    5   296   \n",
      "4      7.875  0.000758         7570.50       9986740.66   7.875    5   296   \n",
      "...      ...       ...             ...              ...     ...  ...   ...   \n",
      "3978   9.488  0.936417     13544035.63      14463678.33   9.488  106     8   \n",
      "3979   9.421  0.920580     10280801.94      11167747.31   9.421  112     8   \n",
      "3980   9.508  0.914832     14517244.60      15868756.78   9.508  112     7   \n",
      "3981   9.381  0.960674     18240425.16      18987114.66   9.381  111     6   \n",
      "3982  10.678  0.878805      8878362.31      10102770.00  10.678  112     6   \n",
      "\n",
      "      Maturity  LQA_SECTOR_SCORE  FLT_SPREAD  MTG_WHLN_NUMBER_LOAN  \\\n",
      "0       738788              59.0       -37.5                     1   \n",
      "1       738788              54.0       -30.5                     1   \n",
      "2       738818              96.0      -262.5                     1   \n",
      "3       738818              87.0      -262.5                     1   \n",
      "4       738818              56.0       -12.5                     1   \n",
      "...        ...               ...         ...                   ...   \n",
      "3978    741923              14.0       148.8                    82   \n",
      "3979    742106              15.0       142.1                   115   \n",
      "3980    742106              16.0       150.8                    72   \n",
      "3981    742198              13.0       138.1                    99   \n",
      "3982    742137              14.0       267.8                    76   \n",
      "\n",
      "      MTG_NUM_ORIG_LOAN REFIX_FREQ CPN_FREQ     CPN  MTG_ORIG_WAM  ISSUE_DT  \n",
      "0                    62          4       12   7.625           262    729633  \n",
      "1                    21         12       12   7.945           273    729633  \n",
      "2                   117         12       12   5.625           290    729663  \n",
      "3                    10          4       12   5.375           300    729663  \n",
      "4                    31          4       12   7.875           259    729663  \n",
      "...                 ...        ...      ...     ...           ...       ...  \n",
      "3978                 84          4       12   9.488           113    738429  \n",
      "3979                116          4       12   9.421           118    738429  \n",
      "3980                 75          4       12   9.508           117    738460  \n",
      "3981                100          4       12   9.381           115    738490  \n",
      "3982                 84          4       12  10.678           119    738490  \n",
      "\n",
      "[3805 rows x 17 columns]\n",
      "0        6.881213\n",
      "1       85.966244\n",
      "2       81.833629\n",
      "3        0.000000\n",
      "4       74.786068\n",
      "          ...    \n",
      "3978     1.719090\n",
      "3979     5.610757\n",
      "3980     9.496782\n",
      "3981     1.523424\n",
      "3982    17.831219\n",
      "Name: MTG_PL_CPR_6M, Length: 3805, dtype: float64\n"
     ]
    }
   ],
   "source": [
    "x=SBA_float_data.drop([\"CPR_indicator\",\"MTG_PL_CPR_6M\"],axis=1)\n",
    "y=SBA_float_data[\"MTG_PL_CPR_6M\"]\n",
    "print(x)\n",
    "print(y)"
   ]
  },
  {
   "cell_type": "code",
   "execution_count": 21,
   "id": "d3e9359f",
   "metadata": {},
   "outputs": [],
   "source": [
    "x_train,x_test,y_train,y_test = train_test_split(x,y,test_size=0.3,random_state=2)"
   ]
  },
  {
   "cell_type": "code",
   "execution_count": 22,
   "id": "3e4b4f49",
   "metadata": {},
   "outputs": [
    {
     "data": {
      "text/html": [
       "<style>#sk-container-id-2 {color: black;background-color: white;}#sk-container-id-2 pre{padding: 0;}#sk-container-id-2 div.sk-toggleable {background-color: white;}#sk-container-id-2 label.sk-toggleable__label {cursor: pointer;display: block;width: 100%;margin-bottom: 0;padding: 0.3em;box-sizing: border-box;text-align: center;}#sk-container-id-2 label.sk-toggleable__label-arrow:before {content: \"▸\";float: left;margin-right: 0.25em;color: #696969;}#sk-container-id-2 label.sk-toggleable__label-arrow:hover:before {color: black;}#sk-container-id-2 div.sk-estimator:hover label.sk-toggleable__label-arrow:before {color: black;}#sk-container-id-2 div.sk-toggleable__content {max-height: 0;max-width: 0;overflow: hidden;text-align: left;background-color: #f0f8ff;}#sk-container-id-2 div.sk-toggleable__content pre {margin: 0.2em;color: black;border-radius: 0.25em;background-color: #f0f8ff;}#sk-container-id-2 input.sk-toggleable__control:checked~div.sk-toggleable__content {max-height: 200px;max-width: 100%;overflow: auto;}#sk-container-id-2 input.sk-toggleable__control:checked~label.sk-toggleable__label-arrow:before {content: \"▾\";}#sk-container-id-2 div.sk-estimator input.sk-toggleable__control:checked~label.sk-toggleable__label {background-color: #d4ebff;}#sk-container-id-2 div.sk-label input.sk-toggleable__control:checked~label.sk-toggleable__label {background-color: #d4ebff;}#sk-container-id-2 input.sk-hidden--visually {border: 0;clip: rect(1px 1px 1px 1px);clip: rect(1px, 1px, 1px, 1px);height: 1px;margin: -1px;overflow: hidden;padding: 0;position: absolute;width: 1px;}#sk-container-id-2 div.sk-estimator {font-family: monospace;background-color: #f0f8ff;border: 1px dotted black;border-radius: 0.25em;box-sizing: border-box;margin-bottom: 0.5em;}#sk-container-id-2 div.sk-estimator:hover {background-color: #d4ebff;}#sk-container-id-2 div.sk-parallel-item::after {content: \"\";width: 100%;border-bottom: 1px solid gray;flex-grow: 1;}#sk-container-id-2 div.sk-label:hover label.sk-toggleable__label {background-color: #d4ebff;}#sk-container-id-2 div.sk-serial::before {content: \"\";position: absolute;border-left: 1px solid gray;box-sizing: border-box;top: 0;bottom: 0;left: 50%;z-index: 0;}#sk-container-id-2 div.sk-serial {display: flex;flex-direction: column;align-items: center;background-color: white;padding-right: 0.2em;padding-left: 0.2em;position: relative;}#sk-container-id-2 div.sk-item {position: relative;z-index: 1;}#sk-container-id-2 div.sk-parallel {display: flex;align-items: stretch;justify-content: center;background-color: white;position: relative;}#sk-container-id-2 div.sk-item::before, #sk-container-id-2 div.sk-parallel-item::before {content: \"\";position: absolute;border-left: 1px solid gray;box-sizing: border-box;top: 0;bottom: 0;left: 50%;z-index: -1;}#sk-container-id-2 div.sk-parallel-item {display: flex;flex-direction: column;z-index: 1;position: relative;background-color: white;}#sk-container-id-2 div.sk-parallel-item:first-child::after {align-self: flex-end;width: 50%;}#sk-container-id-2 div.sk-parallel-item:last-child::after {align-self: flex-start;width: 50%;}#sk-container-id-2 div.sk-parallel-item:only-child::after {width: 0;}#sk-container-id-2 div.sk-dashed-wrapped {border: 1px dashed gray;margin: 0 0.4em 0.5em 0.4em;box-sizing: border-box;padding-bottom: 0.4em;background-color: white;}#sk-container-id-2 div.sk-label label {font-family: monospace;font-weight: bold;display: inline-block;line-height: 1.2em;}#sk-container-id-2 div.sk-label-container {text-align: center;}#sk-container-id-2 div.sk-container {/* jupyter's `normalize.less` sets `[hidden] { display: none; }` but bootstrap.min.css set `[hidden] { display: none !important; }` so we also need the `!important` here to be able to override the default hidden behavior on the sphinx rendered scikit-learn.org. See: https://github.com/scikit-learn/scikit-learn/issues/21755 */display: inline-block !important;position: relative;}#sk-container-id-2 div.sk-text-repr-fallback {display: none;}</style><div id=\"sk-container-id-2\" class=\"sk-top-container\"><div class=\"sk-text-repr-fallback\"><pre>LinearRegression()</pre><b>In a Jupyter environment, please rerun this cell to show the HTML representation or trust the notebook. <br />On GitHub, the HTML representation is unable to render, please try loading this page with nbviewer.org.</b></div><div class=\"sk-container\" hidden><div class=\"sk-item\"><div class=\"sk-estimator sk-toggleable\"><input class=\"sk-toggleable__control sk-hidden--visually\" id=\"sk-estimator-id-2\" type=\"checkbox\" checked><label for=\"sk-estimator-id-2\" class=\"sk-toggleable__label sk-toggleable__label-arrow\">LinearRegression</label><div class=\"sk-toggleable__content\"><pre>LinearRegression()</pre></div></div></div></div></div>"
      ],
      "text/plain": [
       "LinearRegression()"
      ]
     },
     "execution_count": 22,
     "metadata": {},
     "output_type": "execute_result"
    }
   ],
   "source": [
    "lin_reg = LinearRegression().fit(x_train,y_train)\n",
    "lin_reg"
   ]
  },
  {
   "cell_type": "code",
   "execution_count": 23,
   "id": "fe79ea3d",
   "metadata": {},
   "outputs": [
    {
     "data": {
      "text/plain": [
       "0.1889438348822009"
      ]
     },
     "execution_count": 23,
     "metadata": {},
     "output_type": "execute_result"
    }
   ],
   "source": [
    "lin_reg.score(x_test,y_test)"
   ]
  },
  {
   "cell_type": "code",
   "execution_count": 24,
   "id": "59a3be1c",
   "metadata": {},
   "outputs": [
    {
     "data": {
      "text/plain": [
       "0.24600977154096593"
      ]
     },
     "execution_count": 24,
     "metadata": {},
     "output_type": "execute_result"
    }
   ],
   "source": [
    "lin_reg.score(x_train,y_train)"
   ]
  },
  {
   "cell_type": "markdown",
   "id": "3a7c7d88",
   "metadata": {},
   "source": [
    "### Lasso Regression"
   ]
  },
  {
   "cell_type": "code",
   "execution_count": 25,
   "id": "5a839d3a",
   "metadata": {},
   "outputs": [
    {
     "data": {
      "text/html": [
       "<style>#sk-container-id-3 {color: black;background-color: white;}#sk-container-id-3 pre{padding: 0;}#sk-container-id-3 div.sk-toggleable {background-color: white;}#sk-container-id-3 label.sk-toggleable__label {cursor: pointer;display: block;width: 100%;margin-bottom: 0;padding: 0.3em;box-sizing: border-box;text-align: center;}#sk-container-id-3 label.sk-toggleable__label-arrow:before {content: \"▸\";float: left;margin-right: 0.25em;color: #696969;}#sk-container-id-3 label.sk-toggleable__label-arrow:hover:before {color: black;}#sk-container-id-3 div.sk-estimator:hover label.sk-toggleable__label-arrow:before {color: black;}#sk-container-id-3 div.sk-toggleable__content {max-height: 0;max-width: 0;overflow: hidden;text-align: left;background-color: #f0f8ff;}#sk-container-id-3 div.sk-toggleable__content pre {margin: 0.2em;color: black;border-radius: 0.25em;background-color: #f0f8ff;}#sk-container-id-3 input.sk-toggleable__control:checked~div.sk-toggleable__content {max-height: 200px;max-width: 100%;overflow: auto;}#sk-container-id-3 input.sk-toggleable__control:checked~label.sk-toggleable__label-arrow:before {content: \"▾\";}#sk-container-id-3 div.sk-estimator input.sk-toggleable__control:checked~label.sk-toggleable__label {background-color: #d4ebff;}#sk-container-id-3 div.sk-label input.sk-toggleable__control:checked~label.sk-toggleable__label {background-color: #d4ebff;}#sk-container-id-3 input.sk-hidden--visually {border: 0;clip: rect(1px 1px 1px 1px);clip: rect(1px, 1px, 1px, 1px);height: 1px;margin: -1px;overflow: hidden;padding: 0;position: absolute;width: 1px;}#sk-container-id-3 div.sk-estimator {font-family: monospace;background-color: #f0f8ff;border: 1px dotted black;border-radius: 0.25em;box-sizing: border-box;margin-bottom: 0.5em;}#sk-container-id-3 div.sk-estimator:hover {background-color: #d4ebff;}#sk-container-id-3 div.sk-parallel-item::after {content: \"\";width: 100%;border-bottom: 1px solid gray;flex-grow: 1;}#sk-container-id-3 div.sk-label:hover label.sk-toggleable__label {background-color: #d4ebff;}#sk-container-id-3 div.sk-serial::before {content: \"\";position: absolute;border-left: 1px solid gray;box-sizing: border-box;top: 0;bottom: 0;left: 50%;z-index: 0;}#sk-container-id-3 div.sk-serial {display: flex;flex-direction: column;align-items: center;background-color: white;padding-right: 0.2em;padding-left: 0.2em;position: relative;}#sk-container-id-3 div.sk-item {position: relative;z-index: 1;}#sk-container-id-3 div.sk-parallel {display: flex;align-items: stretch;justify-content: center;background-color: white;position: relative;}#sk-container-id-3 div.sk-item::before, #sk-container-id-3 div.sk-parallel-item::before {content: \"\";position: absolute;border-left: 1px solid gray;box-sizing: border-box;top: 0;bottom: 0;left: 50%;z-index: -1;}#sk-container-id-3 div.sk-parallel-item {display: flex;flex-direction: column;z-index: 1;position: relative;background-color: white;}#sk-container-id-3 div.sk-parallel-item:first-child::after {align-self: flex-end;width: 50%;}#sk-container-id-3 div.sk-parallel-item:last-child::after {align-self: flex-start;width: 50%;}#sk-container-id-3 div.sk-parallel-item:only-child::after {width: 0;}#sk-container-id-3 div.sk-dashed-wrapped {border: 1px dashed gray;margin: 0 0.4em 0.5em 0.4em;box-sizing: border-box;padding-bottom: 0.4em;background-color: white;}#sk-container-id-3 div.sk-label label {font-family: monospace;font-weight: bold;display: inline-block;line-height: 1.2em;}#sk-container-id-3 div.sk-label-container {text-align: center;}#sk-container-id-3 div.sk-container {/* jupyter's `normalize.less` sets `[hidden] { display: none; }` but bootstrap.min.css set `[hidden] { display: none !important; }` so we also need the `!important` here to be able to override the default hidden behavior on the sphinx rendered scikit-learn.org. See: https://github.com/scikit-learn/scikit-learn/issues/21755 */display: inline-block !important;position: relative;}#sk-container-id-3 div.sk-text-repr-fallback {display: none;}</style><div id=\"sk-container-id-3\" class=\"sk-top-container\"><div class=\"sk-text-repr-fallback\"><pre>Lasso(max_iter=10000)</pre><b>In a Jupyter environment, please rerun this cell to show the HTML representation or trust the notebook. <br />On GitHub, the HTML representation is unable to render, please try loading this page with nbviewer.org.</b></div><div class=\"sk-container\" hidden><div class=\"sk-item\"><div class=\"sk-estimator sk-toggleable\"><input class=\"sk-toggleable__control sk-hidden--visually\" id=\"sk-estimator-id-3\" type=\"checkbox\" checked><label for=\"sk-estimator-id-3\" class=\"sk-toggleable__label sk-toggleable__label-arrow\">Lasso</label><div class=\"sk-toggleable__content\"><pre>Lasso(max_iter=10000)</pre></div></div></div></div></div>"
      ],
      "text/plain": [
       "Lasso(max_iter=10000)"
      ]
     },
     "execution_count": 25,
     "metadata": {},
     "output_type": "execute_result"
    }
   ],
   "source": [
    "lasso_reg = Lasso(max_iter=10000).fit(x_train,y_train)\n",
    "lasso_reg"
   ]
  },
  {
   "cell_type": "code",
   "execution_count": 26,
   "id": "ff47f44e",
   "metadata": {},
   "outputs": [
    {
     "data": {
      "text/plain": [
       "0.15485439665754408"
      ]
     },
     "execution_count": 26,
     "metadata": {},
     "output_type": "execute_result"
    }
   ],
   "source": [
    "lasso_reg.score(x_test,y_test)"
   ]
  },
  {
   "cell_type": "code",
   "execution_count": 27,
   "id": "5d98fb6d",
   "metadata": {},
   "outputs": [
    {
     "data": {
      "text/plain": [
       "0.20372757830429133"
      ]
     },
     "execution_count": 27,
     "metadata": {},
     "output_type": "execute_result"
    }
   ],
   "source": [
    "lasso_reg.score(x_train,y_train)"
   ]
  },
  {
   "cell_type": "code",
   "execution_count": null,
   "id": "24d66937",
   "metadata": {},
   "outputs": [],
   "source": []
  }
 ],
 "metadata": {
  "kernelspec": {
   "display_name": "Python 3 (ipykernel)",
   "language": "python",
   "name": "python3"
  },
  "language_info": {
   "codemirror_mode": {
    "name": "ipython",
    "version": 3
   },
   "file_extension": ".py",
   "mimetype": "text/x-python",
   "name": "python",
   "nbconvert_exporter": "python",
   "pygments_lexer": "ipython3",
   "version": "3.10.9"
  }
 },
 "nbformat": 4,
 "nbformat_minor": 5
}
